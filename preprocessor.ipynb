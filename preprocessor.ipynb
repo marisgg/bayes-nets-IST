{
 "cells": [
  {
   "cell_type": "code",
   "execution_count": null,
   "metadata": {},
   "outputs": [],
   "source": [
    "import pandas as pd\n",
    "# import numpy as np\n",
    "# import matplotlib.pyplot as plt\n",
    "import duckdb"
   ]
  },
  {
   "cell_type": "code",
   "execution_count": null,
   "metadata": {},
   "outputs": [],
   "source": [
    "con = duckdb.connect(database=':memory:', read_only=False)\n",
    "con.execute(\"CREATE TABLE ist AS SELECT * FROM read_csv_auto('IST_corrected.csv')\")\n",
    "raw_size = con.execute(\"SELECT * FROM ist\").fetchdf().size\n",
    "print(raw_size)"
   ]
  },
  {
   "cell_type": "code",
   "execution_count": null,
   "metadata": {},
   "outputs": [],
   "source": [
    "# Strings of comma seperated column names (variables) to be selected from the table, subcaterogized in determined time.\n",
    "randomisation = \"AGE, SEX, RHEP24, RASP3, RSBP, RDEF1, RDEF2, RDEF3, RDEF4, RDEF5, RDEF6, RDEF7, RDEF8, STYPE, RXASP, RXHEP\"\n",
    "fourteen_day_form = \"DSCH, DIVH, DAP, DOAC, DGORM, DSTER, DCAA, DHAEMD, DCAREND, DTHROMB, DMAJNCH\"\n",
    "final_diagnosis = \"DDIAGISC, DDIAGHA, DDIAGUN, DNOSTRK\"\n",
    "recurrent_stroke = \"DRSISC, DRSH\"\n",
    "fourteen_day_death = \"DPE, DDEAD, DDEADC\"\n",
    "six_months = \"OCCODE\"\n",
    "# Join column String's\n",
    "columns = ', '.join([randomisation, fourteen_day_form, final_diagnosis, recurrent_stroke, fourteen_day_death, six_months])\n",
    "# Construct dataframe\n",
    "df = con.execute(\"SELECT {} FROM ist\".format(columns)).fetchdf()\n",
    "# Keep track of pre-pre-processed data size\n",
    "initial_size = df.size\n",
    "print(initial_size)"
   ]
  },
  {
   "cell_type": "code",
   "execution_count": null,
   "metadata": {},
   "outputs": [],
   "source": [
    "dtypes_before = df.dtypes\n",
    "print(dtypes_before)"
   ]
  },
  {
   "cell_type": "code",
   "execution_count": null,
   "metadata": {},
   "outputs": [],
   "source": [
    "# print(df.head(10))"
   ]
  },
  {
   "cell_type": "code",
   "execution_count": null,
   "metadata": {},
   "outputs": [],
   "source": [
    "# Don't just drop NaN's, shrinks the data by a factor of 10(!)\n",
    "# df = df.dropna()\n",
    "# print(df.size)"
   ]
  },
  {
   "cell_type": "code",
   "execution_count": null,
   "metadata": {},
   "outputs": [],
   "source": [
    "# TODO\n",
    "# NaN's -> U in Y/N columns\n",
    "# Drop NaN's\n",
    "# df = df.fillna('U')"
   ]
  },
  {
   "cell_type": "code",
   "execution_count": null,
   "metadata": {},
   "outputs": [],
   "source": [
    "# All characters to uppercase (ignore numeric columns)\n",
    "# All Y/N(/U) columns are of type 'object'\n",
    "df = df.apply(lambda x : str(x).upper() if type(x) == object else x)"
   ]
  },
  {
   "cell_type": "code",
   "execution_count": null,
   "metadata": {},
   "outputs": [],
   "source": [
    "# Y -> 1\n",
    "# N -> 0\n",
    "# (U -> 0.5)?????\n",
    "df = df.replace(('Y', 'N'), (1, 0))\n",
    "# df = df.replace(('Y', 'N'), (True, False))\n",
    "# df.equals(test_df)"
   ]
  },
  {
   "cell_type": "code",
   "execution_count": null,
   "metadata": {},
   "outputs": [],
   "source": [
    "after_size = df.size\n",
    "dtypes_after = df.dtypes\n",
    "print(after_size)"
   ]
  },
  {
   "cell_type": "code",
   "execution_count": null,
   "metadata": {},
   "outputs": [],
   "source": [
    "print(dtypes_after)\n",
    "# RHEP24 and RASP3 become float64 (?)\n",
    "# RXASP becomes int64 (?)"
   ]
  },
  {
   "cell_type": "code",
   "execution_count": null,
   "metadata": {},
   "outputs": [],
   "source": [
    "df.to_csv('IST_corrected_processed.csv',index=False)"
   ]
  },
  {
   "cell_type": "code",
   "execution_count": null,
   "metadata": {},
   "outputs": [],
   "source": []
  }
 ],
 "metadata": {
  "kernelspec": {
   "display_name": "Python 3",
   "language": "python",
   "name": "python3"
  },
  "language_info": {
   "codemirror_mode": {
    "name": "ipython",
    "version": 3
   },
   "file_extension": ".py",
   "mimetype": "text/x-python",
   "name": "python",
   "nbconvert_exporter": "python",
   "pygments_lexer": "ipython3",
   "version": "3.8.3"
  }
 },
 "nbformat": 4,
 "nbformat_minor": 4
}
