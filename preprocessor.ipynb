{
 "cells": [
  {
   "cell_type": "code",
   "execution_count": 1,
   "metadata": {},
   "outputs": [],
   "source": [
    "import pandas as pd\n",
    "import duckdb\n",
    "import numpy as np"
   ]
  },
  {
   "cell_type": "code",
   "execution_count": 2,
   "metadata": {},
   "outputs": [
    {
     "name": "stdout",
     "output_type": "stream",
     "text": [
      "2176720\n"
     ]
    }
   ],
   "source": [
    "con = duckdb.connect(database=':memory:', read_only=False)\n",
    "con.execute(\"CREATE TABLE ist AS SELECT * FROM read_csv_auto('IST_corrected.csv')\")\n",
    "raw_size = con.execute(\"SELECT * FROM ist\").fetchdf().size\n",
    "print(raw_size)"
   ]
  },
  {
   "cell_type": "code",
   "execution_count": 3,
   "metadata": {},
   "outputs": [
    {
     "name": "stdout",
     "output_type": "stream",
     "text": [
      "['RDEF1', 'RDEF2', 'RDEF3', 'RDEF4', 'RDEF5', 'RDEF6', 'RDEF7', 'RDEF8', 'RXASP', 'RXHEP', 'DDIAGISC', 'DDIAGHA', 'DDIAGUN', 'DNOSTRK', 'DRSISC', 'DRSH', 'DPE', 'DDEAD', 'AGE', 'SEX', 'RSBP', 'STYPE', 'OCCODE']\n",
      "447005\n"
     ]
    }
   ],
   "source": [
    "seperate_df_columns = \"AGE, SEX, RSBP, STYPE\"\n",
    "\n",
    "# Strings of comma seperated column names (variables) to be selected from the table, subcaterogized in determined time.\n",
    "randomisation = \"RDEF1, RDEF2, RDEF3, RDEF4, RDEF5, RDEF6, RDEF7, RDEF8, RXASP, RXHEP\"\n",
    "# fourteen_day_form is unused\n",
    "fourteen_day_form = \"DSCH, DIVH, DAP, DOAC, DGORM, DSTER, DCAA, DHAEMD, DCAREND, DTHROMB, DMAJNCH\"\n",
    "\n",
    "final_diagnosis = \"DDIAGISC, DDIAGHA, DDIAGUN, DNOSTRK\"\n",
    "recurrent_stroke = \"DRSISC, DRSH\"\n",
    "fourteen_day_death = \"DPE, DDEAD\"\n",
    "six_months = \"OCCODE\"\n",
    "# Join column String's\n",
    "columns = ', '.join([randomisation, final_diagnosis, recurrent_stroke, fourteen_day_death, seperate_df_columns, six_months])\n",
    "# Construct dataframe\n",
    "df = con.execute(\"SELECT {} FROM ist\".format(columns)).fetchdf()\n",
    "# df_seperate = con.execute(\"SELECT {0}, {1} FROM ist\".format(seperate_df_columns, six_months)).fetchdf()\n",
    "# Keep track of pre-pre-processed data size\n",
    "var_list = columns.split(\", \")\n",
    "print(var_list)\n",
    "initial_size = df.size\n",
    "print(initial_size)"
   ]
  },
  {
   "cell_type": "code",
   "execution_count": 4,
   "metadata": {},
   "outputs": [
    {
     "name": "stdout",
     "output_type": "stream",
     "text": [
      "rdef1       object\n",
      "rdef2       object\n",
      "rdef3       object\n",
      "rdef4       object\n",
      "rdef5       object\n",
      "rdef6       object\n",
      "rdef7       object\n",
      "rdef8       object\n",
      "rxasp       object\n",
      "rxhep       object\n",
      "ddiagisc    object\n",
      "ddiagha     object\n",
      "ddiagun     object\n",
      "dnostrk     object\n",
      "drsisc      object\n",
      "drsh        object\n",
      "dpe         object\n",
      "ddead       object\n",
      "age          int32\n",
      "sex         object\n",
      "rsbp         int32\n",
      "stype       object\n",
      "occode       int32\n",
      "dtype: object\n"
     ]
    }
   ],
   "source": [
    "dtypes_before = df.dtypes\n",
    "print(dtypes_before)"
   ]
  },
  {
   "cell_type": "code",
   "execution_count": 5,
   "metadata": {},
   "outputs": [
    {
     "data": {
      "text/plain": [
       "<bound method DataFrame.info of       rdef1 rdef2 rdef3 rdef4 rdef5 rdef6 rdef7 rdef8 rxasp rxhep  ...  \\\n",
       "0         N     N     N     Y     N     Y     N     Y     Y     N  ...   \n",
       "1         Y     Y     Y     N     N     N     N     N     N     L  ...   \n",
       "2         Y     Y     Y     N     N     N     N     N     Y     N  ...   \n",
       "3         N     N     N     Y     N     N     N     N     N     H  ...   \n",
       "4         Y     Y     Y     N     N     N     N     N     Y     H  ...   \n",
       "...     ...   ...   ...   ...   ...   ...   ...   ...   ...   ...  ...   \n",
       "19430     Y     Y     Y     Y     Y     C     N     N     N     L  ...   \n",
       "19431     Y     Y     Y     N     N     N     N     C     N     M  ...   \n",
       "19432     Y     Y     Y     N     N     N     N     N     N     N  ...   \n",
       "19433     N     Y     Y     Y     C     C     N     N     N     N  ...   \n",
       "19434     Y     Y     Y     N     N     N     Y     N     Y     M  ...   \n",
       "\n",
       "      dnostrk drsisc drsh dpe ddead age sex rsbp  stype occode  \n",
       "0           N      N    N   N     N  69   M  140   PACS      2  \n",
       "1           N      N    N   N     N  76   M  150   LACS      2  \n",
       "2           N      N    N   N     N  71   F  170   LACS      2  \n",
       "3           N      N    N   N     N  81   M  170   PACS      4  \n",
       "4           N      N    N   N     N  78   M  170   LACS      2  \n",
       "...       ...    ...  ...  ..   ...  ..  ..  ...    ...    ...  \n",
       "19430       N      N    N   N     N  66   M  120   TACS      2  \n",
       "19431       N      N    N   N     N  75   M  210   PACS      2  \n",
       "19432       N      Y    N   N     N  77   M  220   LACS      2  \n",
       "19433       N      N    N   N     Y  87   F  160   TACS      1  \n",
       "19434       N      N    N   N     N  54   M  184   POCS      3  \n",
       "\n",
       "[19435 rows x 23 columns]>"
      ]
     },
     "execution_count": 5,
     "metadata": {},
     "output_type": "execute_result"
    }
   ],
   "source": [
    "df.info"
   ]
  },
  {
   "cell_type": "code",
   "execution_count": 6,
   "metadata": {},
   "outputs": [],
   "source": [
    "def pre_process_columns(some_df, column):\n",
    "    if str(column) == 'occode':\n",
    "        some_df[column] = some_df[column].replace({0 : np.nan, 9 : np.nan})\n",
    "        some_df[column] = some_df[column].replace({np.nan : np.nan, 2 : 0, 3 : 0, 4 : 0})\n",
    "    if str(column) == 'sex':\n",
    "        some_df[column] = some_df[column].replace({'M' : 0, 'F' : 1})\n",
    "    if str(column) in ['age', 'rsbp', 'occode', 'sex']:\n",
    "        return\n",
    "    # All character columns to uppercase\n",
    "    some_df[column] = some_df[column].apply(lambda x : str(x).upper() if type(x) == object else x)\n",
    "    if str(column) in ['stype']:\n",
    "        return\n",
    "    some_df[column] = some_df[column].replace({'Y': 1, 'M': 1, 'H': 1, 'L': 1, 'N': 0, 'C' : np.nan, 'U' : np.nan})"
   ]
  },
  {
   "cell_type": "code",
   "execution_count": 7,
   "metadata": {},
   "outputs": [],
   "source": [
    "for col in df.columns:\n",
    "    pre_process_columns(df, col)"
   ]
  },
  {
   "cell_type": "code",
   "execution_count": 8,
   "metadata": {},
   "outputs": [
    {
     "data": {
      "text/plain": [
       "<bound method DataFrame.info of        rdef1  rdef2  rdef3  rdef4  rdef5  rdef6  rdef7  rdef8  rxasp  rxhep  \\\n",
       "0        0.0    0.0    0.0    1.0    0.0    1.0    0.0    1.0      1      0   \n",
       "1        1.0    1.0    1.0    0.0    0.0    0.0    0.0    0.0      0      1   \n",
       "2        1.0    1.0    1.0    0.0    0.0    0.0    0.0    0.0      1      0   \n",
       "3        0.0    0.0    0.0    1.0    0.0    0.0    0.0    0.0      0      1   \n",
       "4        1.0    1.0    1.0    0.0    0.0    0.0    0.0    0.0      1      1   \n",
       "...      ...    ...    ...    ...    ...    ...    ...    ...    ...    ...   \n",
       "19430    1.0    1.0    1.0    1.0    1.0    NaN    0.0    0.0      0      1   \n",
       "19431    1.0    1.0    1.0    0.0    0.0    0.0    0.0    NaN      0      1   \n",
       "19432    1.0    1.0    1.0    0.0    0.0    0.0    0.0    0.0      0      0   \n",
       "19433    0.0    1.0    1.0    1.0    NaN    NaN    0.0    0.0      0      0   \n",
       "19434    1.0    1.0    1.0    0.0    0.0    0.0    1.0    0.0      1      1   \n",
       "\n",
       "       ... dnostrk  drsisc  drsh  dpe  ddead  age  sex  rsbp  stype  occode  \n",
       "0      ...     0.0     0.0   0.0  0.0    0.0   69    0   140   PACS     0.0  \n",
       "1      ...     0.0     0.0   0.0  0.0    0.0   76    0   150   LACS     0.0  \n",
       "2      ...     0.0     0.0   0.0  0.0    0.0   71    1   170   LACS     0.0  \n",
       "3      ...     0.0     0.0   0.0  0.0    0.0   81    0   170   PACS     0.0  \n",
       "4      ...     0.0     0.0   0.0  0.0    0.0   78    0   170   LACS     0.0  \n",
       "...    ...     ...     ...   ...  ...    ...  ...  ...   ...    ...     ...  \n",
       "19430  ...     0.0     0.0   0.0  0.0    0.0   66    0   120   TACS     0.0  \n",
       "19431  ...     0.0     0.0   0.0  0.0    0.0   75    0   210   PACS     0.0  \n",
       "19432  ...     0.0     1.0   0.0  0.0    0.0   77    0   220   LACS     0.0  \n",
       "19433  ...     0.0     0.0   0.0  0.0    1.0   87    1   160   TACS     1.0  \n",
       "19434  ...     0.0     0.0   0.0  0.0    0.0   54    0   184   POCS     0.0  \n",
       "\n",
       "[19435 rows x 23 columns]>"
      ]
     },
     "execution_count": 8,
     "metadata": {},
     "output_type": "execute_result"
    }
   ],
   "source": [
    "df.info"
   ]
  },
  {
   "cell_type": "code",
   "execution_count": 9,
   "metadata": {},
   "outputs": [
    {
     "data": {
      "text/plain": [
       "Index(['rdef1', 'rdef2', 'rdef3', 'rdef4', 'rdef5', 'rdef6', 'rdef7', 'rdef8',\n",
       "       'rxasp', 'rxhep', 'ddiagisc', 'ddiagha', 'ddiagun', 'dnostrk', 'drsisc',\n",
       "       'drsh', 'dpe', 'ddead', 'age', 'sex', 'rsbp', 'stype', 'occode'],\n",
       "      dtype='object')"
      ]
     },
     "execution_count": 9,
     "metadata": {},
     "output_type": "execute_result"
    }
   ],
   "source": [
    "df.columns"
   ]
  },
  {
   "cell_type": "code",
   "execution_count": 10,
   "metadata": {},
   "outputs": [
    {
     "data": {
      "text/plain": [
       "rdef1       float64\n",
       "rdef2       float64\n",
       "rdef3       float64\n",
       "rdef4       float64\n",
       "rdef5       float64\n",
       "rdef6       float64\n",
       "rdef7       float64\n",
       "rdef8       float64\n",
       "rxasp         int64\n",
       "rxhep         int64\n",
       "ddiagisc     object\n",
       "ddiagha     float64\n",
       "ddiagun     float64\n",
       "dnostrk     float64\n",
       "drsisc      float64\n",
       "drsh        float64\n",
       "dpe         float64\n",
       "ddead       float64\n",
       "age           int32\n",
       "sex           int64\n",
       "rsbp          int32\n",
       "stype        object\n",
       "occode      float64\n",
       "dtype: object"
      ]
     },
     "execution_count": 10,
     "metadata": {},
     "output_type": "execute_result"
    }
   ],
   "source": [
    "df.dtypes"
   ]
  },
  {
   "cell_type": "code",
   "execution_count": 11,
   "metadata": {},
   "outputs": [
    {
     "name": "stdout",
     "output_type": "stream",
     "text": [
      "Column rdef1 has 247 NaN values.\n",
      "Column rdef2 has 123 NaN values.\n",
      "Column rdef3 has 255 NaN values.\n",
      "Column rdef4 has 584 NaN values.\n",
      "Column rdef5 has 3945 NaN values.\n",
      "Column rdef6 has 3448 NaN values.\n",
      "Column rdef7 has 1592 NaN values.\n",
      "Column rdef8 has 1249 NaN values.\n",
      "Column rxasp has 0 NaN values.\n",
      "Column rxhep has 0 NaN values.\n",
      "Column ddiagisc has 39 NaN values.\n",
      "Column ddiagha has 32 NaN values.\n",
      "Column ddiagun has 29 NaN values.\n",
      "Column dnostrk has 32 NaN values.\n",
      "Column drsisc has 27 NaN values.\n",
      "Column drsh has 24 NaN values.\n",
      "Column dpe has 23 NaN values.\n",
      "Column ddead has 25 NaN values.\n",
      "Column age has 0 NaN values.\n",
      "Column sex has 0 NaN values.\n",
      "Column rsbp has 0 NaN values.\n",
      "Column stype has 0 NaN values.\n",
      "Column occode has 150 NaN values.\n"
     ]
    }
   ],
   "source": [
    "for column in df.columns:\n",
    "    print(\"Column {} has {} NaN values.\".format(column, df[column].isna().sum()))"
   ]
  },
  {
   "cell_type": "code",
   "execution_count": 12,
   "metadata": {},
   "outputs": [
    {
     "name": "stdout",
     "output_type": "stream",
     "text": [
      "447005\n",
      "(19435, 23)\n",
      "### DROPPED NaN ###\n",
      "315859\n",
      "(13733, 23)\n"
     ]
    }
   ],
   "source": [
    "print(df.size)\n",
    "print(df.shape)\n",
    "# Drop all rows with any NaN value.\n",
    "df = df.dropna(axis = 0, how = 'any')\n",
    "print(\"### DROPPED NaN ###\")\n",
    "print(df.size)\n",
    "print(df.shape)"
   ]
  },
  {
   "cell_type": "code",
   "execution_count": 13,
   "metadata": {},
   "outputs": [
    {
     "name": "stderr",
     "output_type": "stream",
     "text": [
      "<ipython-input-13-34cb0d4615c5>:6: SettingWithCopyWarning: \n",
      "A value is trying to be set on a copy of a slice from a DataFrame.\n",
      "Try using .loc[row_indexer,col_indexer] = value instead\n",
      "\n",
      "See the caveats in the documentation: https://pandas.pydata.org/pandas-docs/stable/user_guide/indexing.html#returning-a-view-versus-a-copy\n",
      "  df[col.lower()] = df[col.lower()].astype(int, copy=False)\n"
     ]
    }
   ],
   "source": [
    "# Y -> 1\n",
    "# N -> 0\n",
    "# Set all types with (1, 0) to int\n",
    "replace_vars = ', '.join([randomisation, final_diagnosis, recurrent_stroke, fourteen_day_death, six_months]).split(', ')\n",
    "for col in replace_vars:\n",
    "    df[col.lower()] = df[col.lower()].astype(int, copy=False)"
   ]
  },
  {
   "cell_type": "code",
   "execution_count": 14,
   "metadata": {},
   "outputs": [
    {
     "data": {
      "text/plain": [
       "rdef1        int32\n",
       "rdef2        int32\n",
       "rdef3        int32\n",
       "rdef4        int32\n",
       "rdef5        int32\n",
       "rdef6        int32\n",
       "rdef7        int32\n",
       "rdef8        int32\n",
       "rxasp        int32\n",
       "rxhep        int32\n",
       "ddiagisc     int32\n",
       "ddiagha      int32\n",
       "ddiagun      int32\n",
       "dnostrk      int32\n",
       "drsisc       int32\n",
       "drsh         int32\n",
       "dpe          int32\n",
       "ddead        int32\n",
       "age          int32\n",
       "sex          int64\n",
       "rsbp         int32\n",
       "stype       object\n",
       "occode       int32\n",
       "dtype: object"
      ]
     },
     "execution_count": 14,
     "metadata": {},
     "output_type": "execute_result"
    }
   ],
   "source": [
    "df.dtypes"
   ]
  },
  {
   "cell_type": "code",
   "execution_count": 15,
   "metadata": {},
   "outputs": [
    {
     "data": {
      "text/plain": [
       "<bound method DataFrame.info of        rdef1  rdef2  rdef3  rdef4  rdef5  rdef6  rdef7  rdef8  rxasp  rxhep  \\\n",
       "0          0      0      0      1      0      1      0      1      1      0   \n",
       "1          1      1      1      0      0      0      0      0      0      1   \n",
       "2          1      1      1      0      0      0      0      0      1      0   \n",
       "3          0      0      0      1      0      0      0      0      0      1   \n",
       "4          1      1      1      0      0      0      0      0      1      1   \n",
       "...      ...    ...    ...    ...    ...    ...    ...    ...    ...    ...   \n",
       "19423      1      1      1      1      0      0      0      0      0      0   \n",
       "19426      1      1      1      1      0      0      0      0      1      1   \n",
       "19429      0      1      1      0      0      0      0      0      1      1   \n",
       "19432      1      1      1      0      0      0      0      0      0      0   \n",
       "19434      1      1      1      0      0      0      1      0      1      1   \n",
       "\n",
       "       ...  dnostrk  drsisc  drsh  dpe  ddead  age  sex  rsbp  stype  occode  \n",
       "0      ...        0       0     0    0      0   69    0   140   PACS       0  \n",
       "1      ...        0       0     0    0      0   76    0   150   LACS       0  \n",
       "2      ...        0       0     0    0      0   71    1   170   LACS       0  \n",
       "3      ...        0       0     0    0      0   81    0   170   PACS       0  \n",
       "4      ...        0       0     0    0      0   78    0   170   LACS       0  \n",
       "...    ...      ...     ...   ...  ...    ...  ...  ...   ...    ...     ...  \n",
       "19423  ...        0       0     0    0      0   76    1   180   PACS       0  \n",
       "19426  ...        0       0     0    0      0   49    1   150   PACS       0  \n",
       "19429  ...        0       0     0    0      0   68    0   160   LACS       0  \n",
       "19432  ...        0       1     0    0      0   77    0   220   LACS       0  \n",
       "19434  ...        0       0     0    0      0   54    0   184   POCS       0  \n",
       "\n",
       "[13733 rows x 23 columns]>"
      ]
     },
     "execution_count": 15,
     "metadata": {},
     "output_type": "execute_result"
    }
   ],
   "source": [
    "df.info"
   ]
  },
  {
   "cell_type": "code",
   "execution_count": 16,
   "metadata": {},
   "outputs": [
    {
     "data": {
      "text/plain": [
       "<bound method DataFrame.info of        rdef1  rdef2  rdef3  rdef4  rdef5  rdef6  rdef7  rdef8  rxasp  rxhep  \\\n",
       "0          0      0      0      1      0      1      0      1      1      0   \n",
       "1          1      1      1      0      0      0      0      0      0      1   \n",
       "2          1      1      1      0      0      0      0      0      1      0   \n",
       "3          0      0      0      1      0      0      0      0      0      1   \n",
       "4          1      1      1      0      0      0      0      0      1      1   \n",
       "...      ...    ...    ...    ...    ...    ...    ...    ...    ...    ...   \n",
       "19423      1      1      1      1      0      0      0      0      0      0   \n",
       "19426      1      1      1      1      0      0      0      0      1      1   \n",
       "19429      0      1      1      0      0      0      0      0      1      1   \n",
       "19432      1      1      1      0      0      0      0      0      0      0   \n",
       "19434      1      1      1      0      0      0      1      0      1      1   \n",
       "\n",
       "       ...  age  sex  rsbp  stype  occode  LACS  OTH  PACS  POCS  TACS  \n",
       "0      ...   69    0   140   PACS       0     0    0     1     0     0  \n",
       "1      ...   76    0   150   LACS       0     1    0     0     0     0  \n",
       "2      ...   71    1   170   LACS       0     1    0     0     0     0  \n",
       "3      ...   81    0   170   PACS       0     0    0     1     0     0  \n",
       "4      ...   78    0   170   LACS       0     1    0     0     0     0  \n",
       "...    ...  ...  ...   ...    ...     ...   ...  ...   ...   ...   ...  \n",
       "19423  ...   76    1   180   PACS       0     0    0     1     0     0  \n",
       "19426  ...   49    1   150   PACS       0     0    0     1     0     0  \n",
       "19429  ...   68    0   160   LACS       0     1    0     0     0     0  \n",
       "19432  ...   77    0   220   LACS       0     1    0     0     0     0  \n",
       "19434  ...   54    0   184   POCS       0     0    0     0     1     0  \n",
       "\n",
       "[13733 rows x 28 columns]>"
      ]
     },
     "execution_count": 16,
     "metadata": {},
     "output_type": "execute_result"
    }
   ],
   "source": [
    "df = pd.concat([df, pd.get_dummies(df.stype)], axis=1)\n",
    "df.info"
   ]
  },
  {
   "cell_type": "code",
   "execution_count": 17,
   "metadata": {},
   "outputs": [
    {
     "data": {
      "text/plain": [
       "<bound method DataFrame.info of        rdef1  rdef2  rdef3  rdef4  rdef5  rdef6  rdef7  rdef8  rxasp  rxhep  \\\n",
       "0          0      0      0      1      0      1      0      1      1      0   \n",
       "1          1      1      1      0      0      0      0      0      0      1   \n",
       "2          1      1      1      0      0      0      0      0      1      0   \n",
       "3          0      0      0      1      0      0      0      0      0      1   \n",
       "4          1      1      1      0      0      0      0      0      1      1   \n",
       "...      ...    ...    ...    ...    ...    ...    ...    ...    ...    ...   \n",
       "19423      1      1      1      1      0      0      0      0      0      0   \n",
       "19426      1      1      1      1      0      0      0      0      1      1   \n",
       "19429      0      1      1      0      0      0      0      0      1      1   \n",
       "19432      1      1      1      0      0      0      0      0      0      0   \n",
       "19434      1      1      1      0      0      0      1      0      1      1   \n",
       "\n",
       "       ...  ddead  age  sex  rsbp  occode  LACS  OTH  PACS  POCS  TACS  \n",
       "0      ...      0   69    0   140       0     0    0     1     0     0  \n",
       "1      ...      0   76    0   150       0     1    0     0     0     0  \n",
       "2      ...      0   71    1   170       0     1    0     0     0     0  \n",
       "3      ...      0   81    0   170       0     0    0     1     0     0  \n",
       "4      ...      0   78    0   170       0     1    0     0     0     0  \n",
       "...    ...    ...  ...  ...   ...     ...   ...  ...   ...   ...   ...  \n",
       "19423  ...      0   76    1   180       0     0    0     1     0     0  \n",
       "19426  ...      0   49    1   150       0     0    0     1     0     0  \n",
       "19429  ...      0   68    0   160       0     1    0     0     0     0  \n",
       "19432  ...      0   77    0   220       0     1    0     0     0     0  \n",
       "19434  ...      0   54    0   184       0     0    0     0     1     0  \n",
       "\n",
       "[13733 rows x 27 columns]>"
      ]
     },
     "execution_count": 17,
     "metadata": {},
     "output_type": "execute_result"
    }
   ],
   "source": [
    "del df['stype']\n",
    "df.info"
   ]
  },
  {
   "cell_type": "code",
   "execution_count": 18,
   "metadata": {},
   "outputs": [],
   "source": [
    "df.to_csv('IST_corrected_processed.csv',index=False)"
   ]
  },
  {
   "cell_type": "code",
   "execution_count": 19,
   "metadata": {},
   "outputs": [
    {
     "data": {
      "text/plain": [
       "70.44607878832011"
      ]
     },
     "execution_count": 19,
     "metadata": {},
     "output_type": "execute_result"
    }
   ],
   "source": [
    "df['age'].mean()"
   ]
  },
  {
   "cell_type": "code",
   "execution_count": 20,
   "metadata": {},
   "outputs": [
    {
     "data": {
      "text/plain": [
       "0.14869292944003495"
      ]
     },
     "execution_count": 20,
     "metadata": {},
     "output_type": "execute_result"
    }
   ],
   "source": [
    "df['occode'].mean()"
   ]
  },
  {
   "cell_type": "code",
   "execution_count": 21,
   "metadata": {},
   "outputs": [
    {
     "data": {
      "text/plain": [
       "0.061530619675234835"
      ]
     },
     "execution_count": 21,
     "metadata": {},
     "output_type": "execute_result"
    }
   ],
   "source": [
    "df['ddead'].mean()"
   ]
  },
  {
   "cell_type": "code",
   "execution_count": 22,
   "metadata": {},
   "outputs": [
    {
     "data": {
      "text/plain": [
       "160.467487074929"
      ]
     },
     "execution_count": 22,
     "metadata": {},
     "output_type": "execute_result"
    }
   ],
   "source": [
    "df['rsbp'].mean()"
   ]
  },
  {
   "cell_type": "code",
   "execution_count": 23,
   "metadata": {},
   "outputs": [
    {
     "data": {
      "text/plain": [
       "0.698026651132309"
      ]
     },
     "execution_count": 23,
     "metadata": {},
     "output_type": "execute_result"
    }
   ],
   "source": [
    "df['rdef1'].mean()"
   ]
  }
 ],
 "metadata": {
  "kernelspec": {
   "display_name": "Python 3",
   "language": "python",
   "name": "python3"
  },
  "language_info": {
   "codemirror_mode": {
    "name": "ipython",
    "version": 3
   },
   "file_extension": ".py",
   "mimetype": "text/x-python",
   "name": "python",
   "nbconvert_exporter": "python",
   "pygments_lexer": "ipython3",
   "version": "3.8.3"
  }
 },
 "nbformat": 4,
 "nbformat_minor": 4
}
