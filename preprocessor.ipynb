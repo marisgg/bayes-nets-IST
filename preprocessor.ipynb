{
 "cells": [
  {
   "cell_type": "code",
   "execution_count": null,
   "metadata": {},
   "outputs": [],
   "source": [
    "import pandas as pd\n",
    "import duckdb\n",
    "import numpy as np"
   ]
  },
  {
   "cell_type": "code",
   "execution_count": null,
   "metadata": {},
   "outputs": [],
   "source": [
    "con = duckdb.connect(database=':memory:', read_only=False)\n",
    "con.execute(\"CREATE TABLE ist AS SELECT * FROM read_csv_auto('IST_corrected.csv')\")\n",
    "raw_size = con.execute(\"SELECT * FROM ist\").fetchdf().size\n",
    "print(raw_size)"
   ]
  },
  {
   "cell_type": "code",
   "execution_count": null,
   "metadata": {},
   "outputs": [],
   "source": [
    "seperate_df_columns = \"AGE, SEX, RSBP, STYPE\"\n",
    "\n",
    "# Strings of comma seperated column names (variables) to be selected from the table, subcaterogized in determined time.\n",
    "randomisation = \"RDEF1, RDEF2, RDEF3, RDEF4, RDEF5, RDEF6, RDEF7, RDEF8, RXASP, RXHEP\"\n",
    "# fourteen_day_form is unused\n",
    "fourteen_day_form = \"DSCH, DIVH, DAP, DOAC, DGORM, DSTER, DCAA, DHAEMD, DCAREND, DTHROMB, DMAJNCH\"\n",
    "\n",
    "final_diagnosis = \"DDIAGISC, DDIAGHA, DDIAGUN, DNOSTRK\"\n",
    "recurrent_stroke = \"DRSISC, DRSH\"\n",
    "fourteen_day_death = \"DPE, DDEAD\"\n",
    "six_months = \"OCCODE\"\n",
    "# Join column String's\n",
    "columns = ', '.join([randomisation, final_diagnosis, recurrent_stroke, fourteen_day_death, seperate_df_columns, six_months])\n",
    "# Construct dataframe\n",
    "df = con.execute(\"SELECT {} FROM ist\".format(columns)).fetchdf()\n",
    "# df_seperate = con.execute(\"SELECT {0}, {1} FROM ist\".format(seperate_df_columns, six_months)).fetchdf()\n",
    "# Keep track of pre-pre-processed data size\n",
    "var_list = columns.split(\", \")\n",
    "print(var_list)\n",
    "initial_size = df.size\n",
    "print(initial_size)"
   ]
  },
  {
   "cell_type": "code",
   "execution_count": null,
   "metadata": {},
   "outputs": [],
   "source": [
    "dtypes_before = df.dtypes\n",
    "print(dtypes_before)"
   ]
  },
  {
   "cell_type": "code",
   "execution_count": null,
   "metadata": {},
   "outputs": [],
   "source": [
    "df.info"
   ]
  },
  {
   "cell_type": "code",
   "execution_count": null,
   "metadata": {},
   "outputs": [],
   "source": [
    "def pre_process_columns(some_df, column):\n",
    "    if str(column) in ['age', 'rsbp', 'occode']:\n",
    "        return\n",
    "    some_df[column] = some_df[column].apply(lambda x : str(x).upper() if type(x) == object else x)\n",
    "    if str(column) in ['sex', 'stype']:\n",
    "        return\n",
    "    some_df[column] = some_df[column].replace({'Y': 1, 'M': 1, 'H': 1, 'L': 1, 'N': 0, 'C' : np.nan, 'U' : np.nan})"
   ]
  },
  {
   "cell_type": "code",
   "execution_count": null,
   "metadata": {},
   "outputs": [],
   "source": [
    "for col in df.columns:\n",
    "    pre_process_columns(df, col)"
   ]
  },
  {
   "cell_type": "code",
   "execution_count": null,
   "metadata": {},
   "outputs": [],
   "source": [
    "df.info"
   ]
  },
  {
   "cell_type": "code",
   "execution_count": null,
   "metadata": {},
   "outputs": [],
   "source": [
    "df.columns"
   ]
  },
  {
   "cell_type": "code",
   "execution_count": null,
   "metadata": {},
   "outputs": [],
   "source": [
    "df.dtypes"
   ]
  },
  {
   "cell_type": "code",
   "execution_count": null,
   "metadata": {},
   "outputs": [],
   "source": [
    "df = df.dropna(axis = 0, how = 'any')"
   ]
  },
  {
   "cell_type": "code",
   "execution_count": null,
   "metadata": {},
   "outputs": [],
   "source": [
    "# Y -> 1\n",
    "# N -> 0\n",
    "# Set all types with (1, 0) to int\n",
    "replace_vars = ', '.join([randomisation, final_diagnosis, recurrent_stroke, fourteen_day_death]).split(', ')\n",
    "for col in replace_vars:\n",
    "    df[col.lower()] = df[col.lower()].astype(int, copy=False)"
   ]
  },
  {
   "cell_type": "code",
   "execution_count": null,
   "metadata": {},
   "outputs": [],
   "source": [
    "df.dtypes"
   ]
  },
  {
   "cell_type": "code",
   "execution_count": null,
   "metadata": {},
   "outputs": [],
   "source": [
    "df.info"
   ]
  },
  {
   "cell_type": "code",
   "execution_count": null,
   "metadata": {},
   "outputs": [],
   "source": [
    "df.to_csv('IST_corrected_processed.csv',index=False)"
   ]
  },
  {
   "cell_type": "code",
   "execution_count": null,
   "metadata": {},
   "outputs": [],
   "source": [
    "df['age'].mean()"
   ]
  },
  {
   "cell_type": "code",
   "execution_count": null,
   "metadata": {},
   "outputs": [],
   "source": [
    "df['rsbp'].mean()"
   ]
  },
  {
   "cell_type": "code",
   "execution_count": null,
   "metadata": {},
   "outputs": [],
   "source": [
    "df['rdef1'].mean()"
   ]
  }
 ],
 "metadata": {
  "kernelspec": {
   "display_name": "Python 3",
   "language": "python",
   "name": "python3"
  },
  "language_info": {
   "codemirror_mode": {
    "name": "ipython",
    "version": 3
   },
   "file_extension": ".py",
   "mimetype": "text/x-python",
   "name": "python",
   "nbconvert_exporter": "python",
   "pygments_lexer": "ipython3",
   "version": "3.8.3"
  }
 },
 "nbformat": 4,
 "nbformat_minor": 4
}
